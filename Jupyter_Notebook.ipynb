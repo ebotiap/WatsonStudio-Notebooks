{
 "cells": [
  {
   "cell_type": "markdown",
   "metadata": {},
   "source": [
    "<center>\n",
    "    <img src=\"https://s3-api.us-geo.objectstorage.softlayer.net/cf-courses-data/CognitiveClass/Logos/organization_logo/organization_logo.png\" width=\"300\" alt=\"cognitiveclass.ai logo\"  />\n",
    "</center>\n"
   ]
  },
  {
   "cell_type": "markdown",
   "metadata": {},
   "source": [
    "#### Add your code below following the instructions given in the course\n"
   ]
  },
  {
   "cell_type": "markdown",
   "metadata": {},
   "source": [
    "# My Jupyter Notebook on IBM Watson Studio"
   ]
  },
  {
   "cell_type": "markdown",
   "metadata": {},
   "source": [
    "**Enrique B.**  \n",
    "Neurologist in MC General Hospital"
   ]
  },
  {
   "cell_type": "markdown",
   "metadata": {},
   "source": [
    "*I am interested in data science to improve development of treatments in clinical research* "
   ]
  },
  {
   "cell_type": "markdown",
   "metadata": {},
   "source": [
    "### Code to calculate the square root of a number from input"
   ]
  },
  {
   "cell_type": "code",
   "execution_count": 1,
   "metadata": {},
   "outputs": [
    {
     "name": "stdin",
     "output_type": "stream",
     "text": [
      "Enter a number:  4567\n"
     ]
    },
    {
     "name": "stdout",
     "output_type": "stream",
     "text": [
      "67.57958271549181\n"
     ]
    }
   ],
   "source": [
    "num = float(input('Enter a number: '))\n",
    "num_sqr = num ** 0.5\n",
    "print(num_sqr)"
   ]
  },
  {
   "cell_type": "markdown",
   "metadata": {
    "jupyter": {
     "source_hidden": true
    },
    "tags": []
   },
   "source": [
    "<hr>Horizontal rule example<hr> \n",
    "\n",
    "* Bulleted item 1\n",
    "* Bulleted item 2\n",
    "* Bulleted item 3\n",
    "\n",
    "1. Numbered item 1\n",
    "2. Numbered item 2\n",
    "3. Numbered item 3\n",
    "\n",
    "| Header | table | row |\n",
    "|---|---|---|\n",
    "| second | table | row |\n",
    "| third | table | row |\n",
    "\n",
    "<a href=\"http://www.google.com\" target=\"_blank\">Hyperlink example to Google Search</a>\n",
    "\n",
    "<img src=\"https://www.python.org/static/community_logos/python-logo.png\" alt=\"Python logo image example\">\n",
    " \n",
    "\n",
    "```python \n",
    "#code/syntax highlighting example\n",
    "num = float(input('Enter a number: '))\n",
    "num_sqr = num ** 0.5\n",
    "print(num_sqr)\n",
    "``` \n",
    "\n",
    "<blockquote>blocked quotes</blockquote>\n",
    "\n",
    "~~strikethrough example~~\n",
    "\n"
   ]
  }
 ],
 "metadata": {
  "kernelspec": {
   "display_name": "Python",
   "language": "python",
   "name": "conda-env-python-py"
  },
  "language_info": {
   "codemirror_mode": {
    "name": "ipython",
    "version": 3
   },
   "file_extension": ".py",
   "mimetype": "text/x-python",
   "name": "python",
   "nbconvert_exporter": "python",
   "pygments_lexer": "ipython3",
   "version": "3.7.12"
  }
 },
 "nbformat": 4,
 "nbformat_minor": 4
}
